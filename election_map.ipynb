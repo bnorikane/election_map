{
 "cells": [
  {
   "cell_type": "markdown",
   "id": "409e595d",
   "metadata": {},
   "source": [
    "# 2024 election results map\n",
    "\n",
    "Show election results by precinct on a Folium map.\n",
    "\n",
    "- Build on field_map.ipynb base Folium map\n",
    "- County, CD, SD, HD, precinct District boundaries\n",
    "- Choropleth map layers to show data distributions like # of Dems, turnout, votes\n",
    "- Layer control to show/hide layers\n",
    "\n",
    "## Create base Folium map\n",
    "\n",
    "- basemap layer\n",
    "  - Cartodb positron\n",
    "  - center in Boulder County\n",
    "  - zoom to show all Boulder County\n",
    "- add layer control\n",
    "\n",
    "## Add District Boundary layers\n",
    "\n",
    "- geojson feature layers\n",
    "  - Boulder precincts\n",
    "  - Boulder County\n",
    "  - CD\n",
    "  - SD\n",
    "- add styling\n",
    "- add popups\n",
    "- add tooltips\n",
    "\n",
    "## Add data layers\n",
    "\n",
    "- preliminary Presidential results by precinct\n",
    "- data/election_results_2024_president_boulder.csv"
   ]
  },
  {
   "cell_type": "code",
   "execution_count": 1,
   "id": "07e01442",
   "metadata": {},
   "outputs": [],
   "source": [
    "import folium\n",
    "import pandas as pd\n",
    "import geopandas as gpd"
   ]
  },
  {
   "cell_type": "code",
   "execution_count": 2,
   "id": "4840b9fd",
   "metadata": {},
   "outputs": [],
   "source": [
    "# Create basemap layer that shows Boulder County\n",
    "\n",
    "m = folium.Map(tiles='cartodb positron', location=(40.1, -105.3), zoom_level=10)"
   ]
  },
  {
   "cell_type": "code",
   "execution_count": 3,
   "id": "51912506",
   "metadata": {},
   "outputs": [
    {
     "name": "stdout",
     "output_type": "stream",
     "text": [
      "<class 'pandas.core.frame.DataFrame'>\n",
      "RangeIndex: 193 entries, 0 to 192\n",
      "Data columns (total 5 columns):\n",
      " #   Column            Non-Null Count  Dtype\n",
      "---  ------            --------------  -----\n",
      " 0   precinct_name     193 non-null    int64\n",
      " 1   dem_votes_pres    193 non-null    int64\n",
      " 2   rep_votes_pres    193 non-null    int64\n",
      " 3   other_votes_pres  193 non-null    int64\n",
      " 4   dem_margin_pres   193 non-null    int64\n",
      "dtypes: int64(5)\n",
      "memory usage: 7.7 KB\n"
     ]
    }
   ],
   "source": [
    "# Add choropleth precinct layer\n",
    "\n",
    "# get election results data\n",
    "pres = pd.read_csv('data/election_results_2024_president_boulder.csv')\n",
    "pres.info()\n"
   ]
  },
  {
   "cell_type": "code",
   "execution_count": null,
   "id": "1bce6a3d",
   "metadata": {},
   "outputs": [],
   "source": []
  },
  {
   "cell_type": "code",
   "execution_count": 5,
   "id": "39cfb2a4",
   "metadata": {},
   "outputs": [
    {
     "ename": "IndexError",
     "evalue": "list index out of range",
     "output_type": "error",
     "traceback": [
      "\u001b[0;31m---------------------------------------------------------------------------\u001b[0m",
      "\u001b[0;31mIndexError\u001b[0m                                Traceback (most recent call last)",
      "Cell \u001b[0;32mIn[5], line 3\u001b[0m\n\u001b[1;32m      1\u001b[0m \u001b[38;5;66;03m# create choropleth layer\u001b[39;00m\n\u001b[0;32m----> 3\u001b[0m \u001b[43mfolium\u001b[49m\u001b[38;5;241;43m.\u001b[39;49m\u001b[43mChoropleth\u001b[49m\u001b[43m(\u001b[49m\n\u001b[1;32m      4\u001b[0m \u001b[43m    \u001b[49m\u001b[43mgeo_data\u001b[49m\u001b[38;5;241;43m=\u001b[39;49m\u001b[38;5;124;43m'\u001b[39;49m\u001b[38;5;124;43mdata/pct_area_boulder_mail.geojson\u001b[39;49m\u001b[38;5;124;43m'\u001b[39;49m\u001b[43m,\u001b[49m\n\u001b[1;32m      5\u001b[0m \u001b[43m    \u001b[49m\u001b[43mdata\u001b[49m\u001b[38;5;241;43m=\u001b[39;49m\u001b[43mpres\u001b[49m\u001b[43m,\u001b[49m\n\u001b[1;32m      6\u001b[0m \u001b[43m    \u001b[49m\u001b[43mcolumns\u001b[49m\u001b[38;5;241;43m=\u001b[39;49m\u001b[43m[\u001b[49m\u001b[38;5;124;43m'\u001b[39;49m\u001b[38;5;124;43mdem_votes_pres\u001b[39;49m\u001b[38;5;124;43m'\u001b[39;49m\u001b[43m]\u001b[49m\u001b[43m,\u001b[49m\n\u001b[1;32m      7\u001b[0m \u001b[43m    \u001b[49m\u001b[43mkey_on\u001b[49m\u001b[38;5;241;43m=\u001b[39;49m\u001b[38;5;124;43m'\u001b[39;49m\u001b[38;5;124;43mfeature.properties.DISTRICT\u001b[39;49m\u001b[38;5;124;43m'\u001b[39;49m\u001b[43m,\u001b[49m\n\u001b[1;32m      8\u001b[0m \u001b[43m)\u001b[49m\u001b[38;5;241m.\u001b[39madd_to(m)\n\u001b[1;32m     10\u001b[0m m\n",
      "File \u001b[0;32m~/miniconda3/envs/geojupy/lib/python3.12/site-packages/folium/features.py:1532\u001b[0m, in \u001b[0;36mChoropleth.__init__\u001b[0;34m(self, geo_data, data, columns, key_on, bins, fill_color, nan_fill_color, fill_opacity, nan_fill_opacity, line_color, line_weight, line_opacity, name, legend_name, overlay, control, show, topojson, smooth_factor, highlight, use_jenks, **kwargs)\u001b[0m\n\u001b[1;32m   1529\u001b[0m \u001b[38;5;28;01mif\u001b[39;00m \u001b[38;5;28mhasattr\u001b[39m(data, \u001b[38;5;124m\"\u001b[39m\u001b[38;5;124mset_index\u001b[39m\u001b[38;5;124m\"\u001b[39m):\n\u001b[1;32m   1530\u001b[0m     \u001b[38;5;66;03m# This is a pd.DataFrame\u001b[39;00m\n\u001b[1;32m   1531\u001b[0m     \u001b[38;5;28;01massert\u001b[39;00m columns \u001b[38;5;129;01mis\u001b[39;00m \u001b[38;5;129;01mnot\u001b[39;00m \u001b[38;5;28;01mNone\u001b[39;00m\n\u001b[0;32m-> 1532\u001b[0m     color_data \u001b[38;5;241m=\u001b[39m data\u001b[38;5;241m.\u001b[39mset_index(columns[\u001b[38;5;241m0\u001b[39m])[\u001b[43mcolumns\u001b[49m\u001b[43m[\u001b[49m\u001b[38;5;241;43m1\u001b[39;49m\u001b[43m]\u001b[49m]\u001b[38;5;241m.\u001b[39mto_dict()  \u001b[38;5;66;03m# type: ignore\u001b[39;00m\n\u001b[1;32m   1533\u001b[0m \u001b[38;5;28;01melif\u001b[39;00m \u001b[38;5;28mhasattr\u001b[39m(data, \u001b[38;5;124m\"\u001b[39m\u001b[38;5;124mto_dict\u001b[39m\u001b[38;5;124m\"\u001b[39m):\n\u001b[1;32m   1534\u001b[0m     \u001b[38;5;66;03m# This is a pd.Series\u001b[39;00m\n\u001b[1;32m   1535\u001b[0m     color_data \u001b[38;5;241m=\u001b[39m data\u001b[38;5;241m.\u001b[39mto_dict()  \u001b[38;5;66;03m# type: ignore\u001b[39;00m\n",
      "\u001b[0;31mIndexError\u001b[0m: list index out of range"
     ]
    }
   ],
   "source": [
    "\n",
    "# create choropleth layer\n",
    "\n",
    "folium.Choropleth(\n",
    "    geo_data='data/pct_area_boulder_mail.geojson',\n",
    "    data=pres,\n",
    "    columns=['dem_votes_pres'],\n",
    "    key_on='feature.properties.DISTRICT',\n",
    ").add_to(m)\n",
    "\n",
    "m"
   ]
  },
  {
   "cell_type": "code",
   "execution_count": null,
   "id": "6a22e5cb",
   "metadata": {},
   "outputs": [],
   "source": [
    "# pctgdf = gpd.read_file('data/pct_area_boulder_mail.geojson')\n",
    "# pctgdf.info()"
   ]
  },
  {
   "cell_type": "code",
   "execution_count": null,
   "id": "19a5547b",
   "metadata": {},
   "outputs": [],
   "source": [
    "# pctgdf[pctgdf['precinct']=='004']"
   ]
  },
  {
   "cell_type": "code",
   "execution_count": null,
   "id": "3f0ab7e5",
   "metadata": {},
   "outputs": [],
   "source": [
    "# # Add district boundary layers\n",
    "\n",
    "# # ERROR in Precincts.geojson file downloaded from Boulder County.\n",
    "# # Solution: use Boulder County Shape file for precinct geometry\n",
    "\n",
    "# # Add Boulder County precinct boundaries\n",
    "# pct = folium.GeoJson(\n",
    "#     # 'data/Precincts.geojson', errors in this file\n",
    "#     'data/pct_area_boulder_mail.geojson', \n",
    "#     name='precincts',                     \n",
    "#     style_function=lambda feature: {\n",
    "#         # 'fillColor': '#ffff00',\n",
    "#         'fillOpacity': 0,\n",
    "#         'color': 'grey',\n",
    "#         'weight': 1,    \n",
    "#     },                 \n",
    "# )\n",
    "# pct.add_to(m)\n",
    "\n",
    "# # Add Boulder SDs\n",
    "# sd = folium.GeoJson(\n",
    "#     'data/sd_boulder.geojson', \n",
    "#     name='SD',                     \n",
    "#     style_function=lambda feature: {\n",
    "#         # \"fillColor\": \"#ffff00\",\n",
    "#         \"fillOpacity\": 0,\n",
    "#         \"color\": \"red\",\n",
    "#         \"weight\": 2,\n",
    "#         # \"dashArray\": \"5, 5\",\n",
    "#     },              \n",
    "# )\n",
    "# sd.add_to(m)\n",
    "\n",
    "# # Add Boulder HDs\n",
    "# hd = folium.GeoJson(\n",
    "#     'data/hd_boulder.geojson', \n",
    "#     name='HD',                     \n",
    "#     style_function=lambda feature: {\n",
    "#         # \"fillColor\": \"#ffff00\",\n",
    "#         \"fillOpacity\": 0,\n",
    "#         \"color\": \"blue\",\n",
    "#         \"weight\": 2,\n",
    "#         # \"dashArray\": \"5, 5\",\n",
    "#     },       \n",
    "#     )\n",
    "# hd.add_to(m)\n"
   ]
  },
  {
   "cell_type": "code",
   "execution_count": null,
   "id": "8e05f2cd",
   "metadata": {},
   "outputs": [],
   "source": [
    "# Add LayerControl to map\n",
    "folium.LayerControl().add_to(m)\n"
   ]
  },
  {
   "cell_type": "code",
   "execution_count": null,
   "id": "af22d1c2",
   "metadata": {},
   "outputs": [],
   "source": [
    "# Display basemap\n",
    "\n",
    "m"
   ]
  },
  {
   "cell_type": "code",
   "execution_count": 9,
   "id": "b4be20cc",
   "metadata": {},
   "outputs": [],
   "source": [
    "# Save Leaflet map html file\n",
    "m.save('index.html')"
   ]
  },
  {
   "cell_type": "code",
   "execution_count": null,
   "id": "ae56d6e1",
   "metadata": {},
   "outputs": [],
   "source": [
    "# Add styling to district GeoJson layers\n",
    "\n",
    "# folium.GeoJson(\n",
    "#     geo_json_data,\n",
    "#     style_function=lambda feature: {\n",
    "#         \"fillColor\": \"#ffff00\",\n",
    "#         \"color\": \"black\",\n",
    "#         \"weight\": 2,\n",
    "#         \"dashArray\": \"5, 5\",\n",
    "#     },"
   ]
  },
  {
   "cell_type": "code",
   "execution_count": null,
   "id": "c3f40f66",
   "metadata": {},
   "outputs": [],
   "source": [
    "# Add data to GeoJson Layers"
   ]
  },
  {
   "cell_type": "code",
   "execution_count": null,
   "id": "0c637f47",
   "metadata": {},
   "outputs": [],
   "source": []
  }
 ],
 "metadata": {
  "kernelspec": {
   "display_name": "geojupy",
   "language": "python",
   "name": "python3"
  },
  "language_info": {
   "codemirror_mode": {
    "name": "ipython",
    "version": 3
   },
   "file_extension": ".py",
   "mimetype": "text/x-python",
   "name": "python",
   "nbconvert_exporter": "python",
   "pygments_lexer": "ipython3",
   "version": "3.12.5"
  }
 },
 "nbformat": 4,
 "nbformat_minor": 5
}

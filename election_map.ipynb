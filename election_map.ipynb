{
 "cells": [
  {
   "cell_type": "markdown",
   "id": "409e595d",
   "metadata": {},
   "source": [
    "# 2024 election results map\n",
    "\n",
    "Show election results by precinct on a Folium map.\n",
    "\n",
    "- Build on field_map.ipynb base Folium map\n",
    "- County, CD, SD, HD, precinct District boundaries\n",
    "- Choropleth map layers to show data distributions like # of Dems, turnout, votes\n",
    "- Layer control to show/hide layers\n",
    "\n",
    "## Create base Folium map\n",
    "\n",
    "- basemap layer\n",
    "  - Cartodb positron\n",
    "  - center in Boulder County\n",
    "  - zoom to show all Boulder County\n",
    "- add layer control\n",
    "\n",
    "## Add District Boundary layers\n",
    "\n",
    "- geojson feature layers\n",
    "  - Boulder precincts\n",
    "  - Boulder County\n",
    "  - CD\n",
    "  - SD\n",
    "- add styling\n",
    "- add popups\n",
    "- add tooltips\n",
    "\n",
    "## Add data layers\n",
    "\n",
    "- preliminary Presidential results by precinct\n",
    "- data/election_results_2024_president_boulder.csv"
   ]
  },
  {
   "cell_type": "code",
   "execution_count": 1,
   "id": "07e01442",
   "metadata": {},
   "outputs": [],
   "source": [
    "import folium\n",
    "import pandas as pd\n",
    "import geopandas as gpd"
   ]
  },
  {
   "cell_type": "code",
   "execution_count": null,
   "id": "6a22e5cb",
   "metadata": {},
   "outputs": [],
   "source": [
    "pctgdf = gpd.read_file('data/pct_area_boulder_mail.geojson')\n",
    "pctgdf.info()"
   ]
  },
  {
   "cell_type": "code",
   "execution_count": null,
   "id": "19a5547b",
   "metadata": {},
   "outputs": [],
   "source": [
    "pctgdf[pctgdf['precinct']=='004']"
   ]
  },
  {
   "cell_type": "code",
   "execution_count": 4,
   "id": "c18d26b9",
   "metadata": {},
   "outputs": [],
   "source": [
    "# Create basemap layer that shows Boulder County\n",
    "\n",
    "m = folium.Map(tiles='cartodb positron', location=(40.1, -105.3), zoom_level=10)"
   ]
  },
  {
   "cell_type": "code",
   "execution_count": null,
   "id": "3f0ab7e5",
   "metadata": {},
   "outputs": [],
   "source": [
    "# Add district boundary layers\n",
    "\n",
    "# ERROR in Precincts.geojson file downloaded from Boulder County.\n",
    "# Solution: use Boulder County Shape file for precinct geometry\n",
    "\n",
    "# Add Boulder County precinct boundaries\n",
    "pct = folium.GeoJson(\n",
    "    # 'data/Precincts.geojson', errors in this file\n",
    "    'data/pct_area_boulder_mail.geojson', \n",
    "    name='precincts',                     \n",
    "    style_function=lambda feature: {\n",
    "        # 'fillColor': '#ffff00',\n",
    "        'fillOpacity': 0,\n",
    "        'color': 'grey',\n",
    "        'weight': 1,    \n",
    "    },                 \n",
    ")\n",
    "pct.add_to(m)\n",
    "\n",
    "# Add Boulder SDs\n",
    "sd = folium.GeoJson(\n",
    "    'data/sd_boulder.geojson', \n",
    "    name='SD',                     \n",
    "    style_function=lambda feature: {\n",
    "        # \"fillColor\": \"#ffff00\",\n",
    "        \"fillOpacity\": 0,\n",
    "        \"color\": \"red\",\n",
    "        \"weight\": 2,\n",
    "        # \"dashArray\": \"5, 5\",\n",
    "    },              \n",
    ")\n",
    "sd.add_to(m)\n",
    "\n",
    "# Add Boulder HDs\n",
    "hd = folium.GeoJson(\n",
    "    'data/hd_boulder.geojson', \n",
    "    name='HD',                     \n",
    "    style_function=lambda feature: {\n",
    "        # \"fillColor\": \"#ffff00\",\n",
    "        \"fillOpacity\": 0,\n",
    "        \"color\": \"blue\",\n",
    "        \"weight\": 2,\n",
    "        # \"dashArray\": \"5, 5\",\n",
    "    },       \n",
    "    )\n",
    "hd.add_to(m)\n"
   ]
  },
  {
   "cell_type": "code",
   "execution_count": null,
   "id": "fe2fe1c0",
   "metadata": {},
   "outputs": [],
   "source": [
    "pct"
   ]
  },
  {
   "cell_type": "code",
   "execution_count": null,
   "id": "8e05f2cd",
   "metadata": {},
   "outputs": [],
   "source": [
    "# Add LayerControl to map\n",
    "folium.LayerControl().add_to(m)\n"
   ]
  },
  {
   "cell_type": "code",
   "execution_count": null,
   "id": "af22d1c2",
   "metadata": {},
   "outputs": [],
   "source": [
    "# Display basemap\n",
    "\n",
    "m"
   ]
  },
  {
   "cell_type": "code",
   "execution_count": 9,
   "id": "b4be20cc",
   "metadata": {},
   "outputs": [],
   "source": [
    "# Save Leaflet map html file\n",
    "m.save('index.html')"
   ]
  },
  {
   "cell_type": "code",
   "execution_count": null,
   "id": "e9c44b2b",
   "metadata": {},
   "outputs": [],
   "source": [
    "# Add choropleth precinct layer\n",
    "\n",
    "# get election results data\n",
    "pres = pd.read_csv('data/election_results_2024_president_boulder.csv')\n",
    "pres.info()\n"
   ]
  },
  {
   "cell_type": "code",
   "execution_count": null,
   "id": "0bfc9bef",
   "metadata": {},
   "outputs": [],
   "source": []
  },
  {
   "cell_type": "code",
   "execution_count": null,
   "id": "c5224005",
   "metadata": {},
   "outputs": [],
   "source": [
    "# find precinct mismatches between pctgdf and pres\n",
    "# pctarea.compare(pres['precinct_name'])"
   ]
  },
  {
   "cell_type": "code",
   "execution_count": null,
   "id": "062581b2",
   "metadata": {},
   "outputs": [],
   "source": [
    "\n",
    "# create choropleth layer\n",
    "\n",
    "folium.Choropleth(\n",
    "    geo_data=pct,\n",
    "    data=pres,\n",
    "    columns=['dem_votes_pres','rep_votes_pres'],\n",
    "    key_on='PRECINCT',\n",
    ").add_to(m)\n",
    "\n",
    "m"
   ]
  },
  {
   "cell_type": "code",
   "execution_count": null,
   "id": "ae56d6e1",
   "metadata": {},
   "outputs": [],
   "source": [
    "# Add styling to district GeoJson layers\n",
    "\n",
    "# folium.GeoJson(\n",
    "#     geo_json_data,\n",
    "#     style_function=lambda feature: {\n",
    "#         \"fillColor\": \"#ffff00\",\n",
    "#         \"color\": \"black\",\n",
    "#         \"weight\": 2,\n",
    "#         \"dashArray\": \"5, 5\",\n",
    "#     },"
   ]
  },
  {
   "cell_type": "code",
   "execution_count": null,
   "id": "c3f40f66",
   "metadata": {},
   "outputs": [],
   "source": [
    "# Add data to GeoJson Layers"
   ]
  },
  {
   "cell_type": "code",
   "execution_count": null,
   "id": "0c637f47",
   "metadata": {},
   "outputs": [],
   "source": []
  }
 ],
 "metadata": {
  "kernelspec": {
   "display_name": "geojupy",
   "language": "python",
   "name": "python3"
  },
  "language_info": {
   "codemirror_mode": {
    "name": "ipython",
    "version": 3
   },
   "file_extension": ".py",
   "mimetype": "text/x-python",
   "name": "python",
   "nbconvert_exporter": "python",
   "pygments_lexer": "ipython3",
   "version": "3.12.5"
  }
 },
 "nbformat": 4,
 "nbformat_minor": 5
}
